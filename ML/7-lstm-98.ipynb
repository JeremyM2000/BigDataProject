{
 "cells": [
  {
   "cell_type": "markdown",
   "metadata": {},
   "source": [
    "### Import des libraires\n",
    "- Pandas : gestion heterogène array\n",
    "- Numpy : gestion homogène array\n",
    "- Torch : ML/DL pour création de nn, transformation audio\n",
    "- Matplotlib : Pour plot des données\n",
    "- Tqdm : bar de chargement entrainement"
   ]
  },
  {
   "cell_type": "code",
   "execution_count": 1,
   "metadata": {},
   "outputs": [
    {
     "name": "stderr",
     "output_type": "stream",
     "text": [
      "Exception ignored in: <bound method IPythonKernel._clean_thread_parent_frames of <ipykernel.ipkernel.IPythonKernel object at 0x11013bc10>>\n",
      "Traceback (most recent call last):\n",
      "  File \"/Users/robinbochu/.pyenv/versions/3.11.8/lib/python3.11/site-packages/ipykernel/ipkernel.py\", line 770, in _clean_thread_parent_frames\n",
      "    def _clean_thread_parent_frames(\n",
      "\n",
      "KeyboardInterrupt: \n",
      "/Users/robinbochu/.pyenv/versions/3.11.8/lib/python3.11/site-packages/tqdm/auto.py:21: TqdmWarning: IProgress not found. Please update jupyter and ipywidgets. See https://ipywidgets.readthedocs.io/en/stable/user_install.html\n",
      "  from .autonotebook import tqdm as notebook_tqdm\n"
     ]
    }
   ],
   "source": [
    "import csv\n",
    "import os\n",
    "from pathlib import Path\n",
    "\n",
    "import torch\n",
    "from torch import Tensor\n",
    "import torch.nn as nn\n",
    "from torch import optim\n",
    "import torch.nn.functional as F\n",
    "from typing import Dict, List, Tuple, Union\n",
    "\n",
    "from torch.utils.data import Dataset, DataLoader, TensorDataset\n",
    "import torchvision.datasets as datasets\n",
    "import torchvision.transforms as transforms\n",
    "\n",
    "from torchaudio.transforms import MelSpectrogram\n",
    "import torchaudio\n",
    "\n",
    "import pandas as pd\n",
    "import numpy as np\n",
    "import matplotlib.pyplot as plt\n",
    "import torchaudio.transforms as T\n",
    "\n",
    "from tqdm import tqdm\n",
    "\n"
   ]
  },
  {
   "cell_type": "markdown",
   "metadata": {},
   "source": [
    "On définit le device sur mps étant sur un silicon pour faire de la parralélisation"
   ]
  },
  {
   "cell_type": "code",
   "execution_count": null,
   "metadata": {},
   "outputs": [],
   "source": [
    "device = torch.device(\"mps\")"
   ]
  },
  {
   "cell_type": "markdown",
   "metadata": {},
   "source": [
    "### Dataset\n",
    "Contexte de la donnée:\n",
    "On a 3 datasets utilisable : test, train, validated. J'ai donc décidé de les concaténer pour finalement avoir un dataset beaucoup plus grand comme ça on facilite la segmentation de la donnée : 80/20%\n",
    "\n",
    "- Récupération de la donnée dans les fichier tsv\n",
    "- Cleanning de la data (Valeurs null ou à 0)\n",
    "- Filtre données : on ne garde que les target = 1, 2, 3 ou 4"
   ]
  },
  {
   "cell_type": "code",
   "execution_count": null,
   "metadata": {},
   "outputs": [
    {
     "name": "stdout",
     "output_type": "stream",
     "text": [
      "train rows: 2476\n",
      "test rows: 1632\n",
      "validate rows: 5773\n"
     ]
    },
    {
     "name": "stderr",
     "output_type": "stream",
     "text": [
      "/var/folders/j3/tchtxx29319gbp_dsgcljm800000gn/T/ipykernel_33194/2717057402.py:13: SettingWithCopyWarning: \n",
      "A value is trying to be set on a copy of a slice from a DataFrame\n",
      "\n",
      "See the caveats in the documentation: https://pandas.pydata.org/pandas-docs/stable/user_guide/indexing.html#returning-a-view-versus-a-copy\n",
      "  train_data_numbers.dropna(subset=['sentence', 'path'], inplace=True)\n",
      "/var/folders/j3/tchtxx29319gbp_dsgcljm800000gn/T/ipykernel_33194/2717057402.py:14: SettingWithCopyWarning: \n",
      "A value is trying to be set on a copy of a slice from a DataFrame\n",
      "\n",
      "See the caveats in the documentation: https://pandas.pydata.org/pandas-docs/stable/user_guide/indexing.html#returning-a-view-versus-a-copy\n",
      "  test_data_numbers.dropna(subset=['sentence', 'path'], inplace=True)\n",
      "/var/folders/j3/tchtxx29319gbp_dsgcljm800000gn/T/ipykernel_33194/2717057402.py:15: SettingWithCopyWarning: \n",
      "A value is trying to be set on a copy of a slice from a DataFrame\n",
      "\n",
      "See the caveats in the documentation: https://pandas.pydata.org/pandas-docs/stable/user_guide/indexing.html#returning-a-view-versus-a-copy\n",
      "  validate_data_numbers.dropna(subset=['sentence', 'path'], inplace=True)\n"
     ]
    }
   ],
   "source": [
    "train_data = pd.read_csv('data/cv-corpus-7.0-singleword/fr/train.tsv',sep='\\t')\n",
    "train_data[['path', 'sentence']] = train_data[['path', 'sentence']].replace('', np.nan)\n",
    "train_data_numbers = train_data[(train_data['sentence']=='un')|(train_data['sentence']=='deux')|(train_data['sentence']=='trois')|(train_data['sentence']=='quatre')]\n",
    "\n",
    "test_data = pd.read_csv('data/cv-corpus-7.0-singleword/fr/test.tsv',sep='\\t')\n",
    "test_data[['path', 'sentence']] = test_data[['path', 'sentence']].replace('', np.nan)\n",
    "test_data_numbers = test_data[(test_data['sentence']=='un')|(test_data['sentence']=='deux')|(test_data['sentence']=='trois')|(test_data['sentence']=='quatre')]\n",
    "\n",
    "validate_data = pd.read_csv('data/cv-corpus-7.0-singleword/fr/validated.tsv',sep='\\t')\n",
    "validate_data[['path', 'sentence']] = validate_data[['path', 'sentence']].replace('', np.nan)\n",
    "validate_data_numbers = validate_data[(validate_data['sentence']=='un')|(validate_data['sentence']=='deux')|(validate_data['sentence']=='trois')|(validate_data['sentence']=='quatre')]\n",
    "\n",
    "train_data_numbers.dropna(subset=['sentence', 'path'], inplace=True)\n",
    "test_data_numbers.dropna(subset=['sentence', 'path'], inplace=True)\n",
    "validate_data_numbers.dropna(subset=['sentence', 'path'], inplace=True)\n",
    "\n",
    "print(f\"train rows: {train_data_numbers.shape[0]}\")\n",
    "print(f\"test rows: {test_data_numbers.shape[0]}\")\n",
    "print(f\"validate rows: {validate_data_numbers.shape[0]}\")\n",
    "\n"
   ]
  },
  {
   "cell_type": "code",
   "execution_count": null,
   "metadata": {},
   "outputs": [
    {
     "data": {
      "text/html": [
       "<div>\n",
       "<style scoped>\n",
       "    .dataframe tbody tr th:only-of-type {\n",
       "        vertical-align: middle;\n",
       "    }\n",
       "\n",
       "    .dataframe tbody tr th {\n",
       "        vertical-align: top;\n",
       "    }\n",
       "\n",
       "    .dataframe thead th {\n",
       "        text-align: right;\n",
       "    }\n",
       "</style>\n",
       "<table border=\"1\" class=\"dataframe\">\n",
       "  <thead>\n",
       "    <tr style=\"text-align: right;\">\n",
       "      <th></th>\n",
       "      <th>client_id</th>\n",
       "      <th>path</th>\n",
       "      <th>sentence</th>\n",
       "      <th>up_votes</th>\n",
       "      <th>down_votes</th>\n",
       "      <th>age</th>\n",
       "      <th>gender</th>\n",
       "      <th>accent</th>\n",
       "      <th>locale</th>\n",
       "      <th>segment</th>\n",
       "    </tr>\n",
       "  </thead>\n",
       "  <tbody>\n",
       "    <tr>\n",
       "      <th>2</th>\n",
       "      <td>89fa8146b2c07e3e2fe2bbf3852ed8b22a625e383df7eb...</td>\n",
       "      <td>common_voice_fr_21982262.mp3</td>\n",
       "      <td>trois</td>\n",
       "      <td>3</td>\n",
       "      <td>0</td>\n",
       "      <td>teens</td>\n",
       "      <td>male</td>\n",
       "      <td>france</td>\n",
       "      <td>fr</td>\n",
       "      <td>Benchmark</td>\n",
       "    </tr>\n",
       "    <tr>\n",
       "      <th>3</th>\n",
       "      <td>89fa8146b2c07e3e2fe2bbf3852ed8b22a625e383df7eb...</td>\n",
       "      <td>common_voice_fr_21982265.mp3</td>\n",
       "      <td>deux</td>\n",
       "      <td>3</td>\n",
       "      <td>2</td>\n",
       "      <td>teens</td>\n",
       "      <td>male</td>\n",
       "      <td>france</td>\n",
       "      <td>fr</td>\n",
       "      <td>Benchmark</td>\n",
       "    </tr>\n",
       "    <tr>\n",
       "      <th>8</th>\n",
       "      <td>89fa8146b2c07e3e2fe2bbf3852ed8b22a625e383df7eb...</td>\n",
       "      <td>common_voice_fr_21982436.mp3</td>\n",
       "      <td>un</td>\n",
       "      <td>4</td>\n",
       "      <td>1</td>\n",
       "      <td>teens</td>\n",
       "      <td>male</td>\n",
       "      <td>france</td>\n",
       "      <td>fr</td>\n",
       "      <td>Benchmark</td>\n",
       "    </tr>\n",
       "    <tr>\n",
       "      <th>9</th>\n",
       "      <td>89fa8146b2c07e3e2fe2bbf3852ed8b22a625e383df7eb...</td>\n",
       "      <td>common_voice_fr_21982502.mp3</td>\n",
       "      <td>quatre</td>\n",
       "      <td>2</td>\n",
       "      <td>0</td>\n",
       "      <td>teens</td>\n",
       "      <td>male</td>\n",
       "      <td>france</td>\n",
       "      <td>fr</td>\n",
       "      <td>Benchmark</td>\n",
       "    </tr>\n",
       "    <tr>\n",
       "      <th>14</th>\n",
       "      <td>8b6b5f3aa812daa683fbd2ef527c4ab1cdd86dbfbe1e50...</td>\n",
       "      <td>common_voice_fr_21974685.mp3</td>\n",
       "      <td>quatre</td>\n",
       "      <td>2</td>\n",
       "      <td>0</td>\n",
       "      <td>NaN</td>\n",
       "      <td>NaN</td>\n",
       "      <td>NaN</td>\n",
       "      <td>fr</td>\n",
       "      <td>Benchmark</td>\n",
       "    </tr>\n",
       "  </tbody>\n",
       "</table>\n",
       "</div>"
      ],
      "text/plain": [
       "                                            client_id  \\\n",
       "2   89fa8146b2c07e3e2fe2bbf3852ed8b22a625e383df7eb...   \n",
       "3   89fa8146b2c07e3e2fe2bbf3852ed8b22a625e383df7eb...   \n",
       "8   89fa8146b2c07e3e2fe2bbf3852ed8b22a625e383df7eb...   \n",
       "9   89fa8146b2c07e3e2fe2bbf3852ed8b22a625e383df7eb...   \n",
       "14  8b6b5f3aa812daa683fbd2ef527c4ab1cdd86dbfbe1e50...   \n",
       "\n",
       "                            path sentence  up_votes  down_votes    age gender  \\\n",
       "2   common_voice_fr_21982262.mp3    trois         3           0  teens   male   \n",
       "3   common_voice_fr_21982265.mp3     deux         3           2  teens   male   \n",
       "8   common_voice_fr_21982436.mp3       un         4           1  teens   male   \n",
       "9   common_voice_fr_21982502.mp3   quatre         2           0  teens   male   \n",
       "14  common_voice_fr_21974685.mp3   quatre         2           0    NaN    NaN   \n",
       "\n",
       "    accent locale    segment  \n",
       "2   france     fr  Benchmark  \n",
       "3   france     fr  Benchmark  \n",
       "8   france     fr  Benchmark  \n",
       "9   france     fr  Benchmark  \n",
       "14     NaN     fr  Benchmark  "
      ]
     },
     "execution_count": 4,
     "metadata": {},
     "output_type": "execute_result"
    }
   ],
   "source": [
    "train_data_numbers.head(5)"
   ]
  },
  {
   "cell_type": "markdown",
   "metadata": {},
   "source": [
    "### Fonction pour load les mp3\n",
    "```python3  \n",
    "def Load_waveform() \n",
    "```\n",
    "Convertit un mp3 en waveform (manipulable en code)\n",
    "\n",
    "-----------------------------------------------------------------------------\n",
    "\n",
    "```python3  \n",
    "def Load_waveformes() \n",
    "```\n",
    "Itère dans les 3 datasets et convertit tous les fichiers"
   ]
  },
  {
   "cell_type": "code",
   "execution_count": null,
   "metadata": {},
   "outputs": [],
   "source": [
    "def load_waveform(mp3_file):\n",
    "    waveform, sample_rate = torchaudio.load(mp3_file, format='mp3')\n",
    "    return waveform, sample_rate\n",
    "\n",
    "def load_waveformes(df,waveformes,targets):\n",
    "    for mp3_path in df['path']:\n",
    "        waveform, _ = load_waveform(f'data/cv-corpus-7.0-singleword/fr/clips/{mp3_path}')\n",
    "        waveformes.append(waveform)\n",
    "        targets.append(df[df['path'] == mp3_path]['sentence'].values[0])\n"
   ]
  },
  {
   "cell_type": "markdown",
   "metadata": {},
   "source": [
    "### Création des array contenant toutes nos données \n",
    "On pourra transformer ces array en TorchDataset plus tard ce qui va faciliter la compréhension"
   ]
  },
  {
   "cell_type": "code",
   "execution_count": null,
   "metadata": {},
   "outputs": [
    {
     "name": "stdout",
     "output_type": "stream",
     "text": [
      "waveformes: 9881\n",
      "targets: 9881\n"
     ]
    }
   ],
   "source": [
    "waveformes = []\n",
    "targets = []\n",
    "\n",
    "load_waveformes(train_data_numbers,waveformes,targets)\n",
    "load_waveformes(test_data_numbers,waveformes,targets)\n",
    "load_waveformes(validate_data_numbers,waveformes,targets)\n",
    "\n",
    "print(f\"waveformes: {len(waveformes)}\")\n",
    "print(f\"targets: {len(targets)}\")"
   ]
  },
  {
   "cell_type": "markdown",
   "metadata": {},
   "source": [
    "### Petit check si les données sont bien équilibré \n",
    "Si le nombre de données est différent d'une classe à l'autre alors notre modèle sera biaisé "
   ]
  },
  {
   "cell_type": "code",
   "execution_count": null,
   "metadata": {},
   "outputs": [
    {
     "data": {
      "text/plain": [
       "([<matplotlib.axis.XTick at 0x2833f3f10>,\n",
       "  <matplotlib.axis.XTick at 0x1069c09d0>,\n",
       "  <matplotlib.axis.XTick at 0x1069820d0>,\n",
       "  <matplotlib.axis.XTick at 0x283931f90>],\n",
       " [Text(1, 0, '1'), Text(2, 0, '2'), Text(3, 0, '3'), Text(4, 0, '4')])"
      ]
     },
     "execution_count": 7,
     "metadata": {},
     "output_type": "execute_result"
    },
    {
     "data": {
      "image/png": "[encoded data removed]",
      "text/plain": [
       "<Figure size 640x480 with 1 Axes>"
      ]
     },
     "metadata": {},
     "output_type": "display_data"
    }
   ],
   "source": [
    "count=pd.Series(targets).value_counts()\n",
    "plt.bar(count.index,count.values)\n",
    "plt.xscale('linear')\n",
    "plt.xticks(range(1,5,1))"
   ]
  },
  {
   "cell_type": "markdown",
   "metadata": {},
   "source": [
    "### String -> Numeric\n",
    "On va map nos données target pour faciliter l'entrainement de notre modèle\n",
    "Celui-ci va prédir une donnée numérique en output et on calculera la loss par rapport à la value de la classe correspondante"
   ]
  },
  {
   "cell_type": "code",
   "execution_count": null,
   "metadata": {},
   "outputs": [],
   "source": [
    "map = {\n",
    "    'un': 1,\n",
    "    'deux': 2,\n",
    "    'trois': 3,\n",
    "    'quatre': 4\n",
    "}\n",
    "\n",
    "targets = [map[i] for i in targets]"
   ]
  },
  {
   "cell_type": "markdown",
   "metadata": {},
   "source": [
    "### Transformation de nos waveform en spectrogram"
   ]
  },
  {
   "cell_type": "code",
   "execution_count": null,
   "metadata": {},
   "outputs": [],
   "source": [
    "transform = MelSpectrogram(sample_rate=48000, n_mels=40, n_fft=512, hop_length=256)\n",
    "spectrograms = [transform(wave).squeeze(0) for wave in waveformes]"
   ]
  },
  {
   "cell_type": "markdown",
   "metadata": {},
   "source": [
    "### Normalisation des données (Pour un CNN 25% -> 75% avec une normalisation standard)"
   ]
  },
  {
   "cell_type": "code",
   "execution_count": null,
   "metadata": {},
   "outputs": [],
   "source": [
    "def normalize_spectrograms(spectrograms):\n",
    "    normalized_spectrograms = []\n",
    "    for s in spectrograms:\n",
    "        mean = s.mean()\n",
    "        std = s.std()\n",
    "        normalized_spectrograms.append((s - mean) / std)\n",
    "    return normalized_spectrograms\n",
    "\n",
    "spectrograms = normalize_spectrograms(spectrograms)\n"
   ]
  },
  {
   "cell_type": "code",
   "execution_count": null,
   "metadata": {},
   "outputs": [
    {
     "name": "stdout",
     "output_type": "stream",
     "text": [
      "torch.Size([40, 370])\n"
     ]
    }
   ],
   "source": [
    "print(spectrograms[1].shape)"
   ]
  },
  {
   "cell_type": "code",
   "execution_count": null,
   "metadata": {},
   "outputs": [
    {
     "name": "stdout",
     "output_type": "stream",
     "text": [
      "torch.Size([40, 365])\n",
      "365\n"
     ]
    }
   ],
   "source": [
    "print(spectrograms[0].shape)\n",
    "print(spectrograms[0].shape[1])"
   ]
  },
  {
   "cell_type": "code",
   "execution_count": null,
   "metadata": {},
   "outputs": [
    {
     "name": "stdout",
     "output_type": "stream",
     "text": [
      "2021\n"
     ]
    }
   ],
   "source": [
    "max = 0\n",
    "for mel in spectrograms:\n",
    "    if mel.shape[1] > max:\n",
    "        max = mel.shape[1]\n",
    "\n",
    "print(max)"
   ]
  },
  {
   "cell_type": "markdown",
   "metadata": {},
   "source": [
    "### On trasnpose notre tensor pour avoir les time frame en première dimension "
   ]
  },
  {
   "cell_type": "code",
   "execution_count": null,
   "metadata": {},
   "outputs": [
    {
     "name": "stdout",
     "output_type": "stream",
     "text": [
      "torch.Size([365, 40])\n"
     ]
    }
   ],
   "source": [
    "spectrograms = [mel.transpose(0, 1) for mel in spectrograms]\n",
    "print(spectrograms[0].shape)"
   ]
  },
  {
   "cell_type": "code",
   "execution_count": null,
   "metadata": {},
   "outputs": [
    {
     "data": {
      "image/png": "[encoded data removed]",
      "text/plain": [
       "<Figure size 640x480 with 2 Axes>"
      ]
     },
     "metadata": {},
     "output_type": "display_data"
    }
   ],
   "source": [
    "def plot_spectrogram(spec, title=None, ylabel='Frequency Bins', aspect='auto', xmax=None):\n",
    "    \"\"\"\n",
    "    Plots a spectrogram with the time axis on the x-axis and frequency bins on the y-axis.\n",
    "    \n",
    "    Parameters:\n",
    "        spec (np.ndarray or torch.Tensor): The spectrogram tensor/array.\n",
    "        title (str, optional): Title of the plot.\n",
    "        ylabel (str, optional): Label for the y-axis.\n",
    "        aspect (str, optional): Aspect ratio of the plot. 'auto' fills the axes with the data.\n",
    "        xmax (int, optional): Maximum value for the x-axis (time axis).\n",
    "    \"\"\"\n",
    "    # Transform amplitude spectrogram to decibel scale\n",
    "    spec_to_db = T.AmplitudeToDB(stype='power')\n",
    "    spec_db = spec_to_db(spec)\n",
    "\n",
    "    # Check if the input is a tensor and convert to numpy for plotting\n",
    "    if isinstance(spec_db, torch.Tensor):\n",
    "        spec_db = spec_db.numpy()\n",
    "\n",
    "    # Transpose the spectrogram to align time on the x-axis and frequency bins on the y-axis\n",
    "    spec_db = spec_db.T  # now the shape should be [time, frequency]\n",
    "\n",
    "    # Create the plot\n",
    "    fig, axs = plt.subplots(1, 1)\n",
    "    axs.set_title(title or 'Spectrogram (dB)')\n",
    "    axs.set_ylabel(ylabel)\n",
    "    axs.set_xlabel('Time Frame')\n",
    "    \n",
    "    # Adjust the extent to properly scale the axes, with time on the x-axis and frequency on the y-axis\n",
    "    cax = axs.imshow(spec_db, aspect=aspect, origin='lower',\n",
    "                     extent=[0, spec_db.shape[1], 0, spec_db.shape[0]],\n",
    "                     cmap='inferno')\n",
    "    \n",
    "    # Set maximum x-axis value if provided\n",
    "    if xmax:\n",
    "        axs.set_xlim([0, xmax])\n",
    "    \n",
    "    # Add a colorbar to the plot to indicate the decibel scale\n",
    "    fig.colorbar(cax, label='Decibel (dB)')\n",
    "    plt.show()\n",
    "\n",
    "plot_spectrogram(spectrograms[0].squeeze(0), title=targets[0])"
   ]
  },
  {
   "cell_type": "markdown",
   "metadata": {},
   "source": [
    "### Padding \n",
    "Pour avoir des séquence de même données "
   ]
  },
  {
   "cell_type": "code",
   "execution_count": null,
   "metadata": {},
   "outputs": [],
   "source": [
    "def pad(spectrograms,max):\n",
    "    padded_spectrograms = []\n",
    "    for mel in spectrograms:\n",
    "        padded_spectrograms.append(F.pad(mel, (0, 0, 0, max-mel.shape[0])))\n",
    "    return padded_spectrograms\n",
    "padded_spectrograms = pad(spectrograms,max)"
   ]
  },
  {
   "cell_type": "code",
   "execution_count": null,
   "metadata": {},
   "outputs": [
    {
     "name": "stdout",
     "output_type": "stream",
     "text": [
      "torch.Size([2021, 40])\n"
     ]
    }
   ],
   "source": [
    "print(padded_spectrograms[1].shape)\n"
   ]
  },
  {
   "cell_type": "markdown",
   "metadata": {},
   "source": [
    "### Séparation 80/20"
   ]
  },
  {
   "cell_type": "code",
   "execution_count": null,
   "metadata": {},
   "outputs": [],
   "source": [
    "from sklearn.model_selection import train_test_split\n",
    "X_train, X_test, y_train, y_test = train_test_split(padded_spectrograms, targets, test_size=0.2, random_state=42)"
   ]
  },
  {
   "cell_type": "code",
   "execution_count": null,
   "metadata": {},
   "outputs": [
    {
     "name": "stdout",
     "output_type": "stream",
     "text": [
      "7904\n",
      "1977\n"
     ]
    }
   ],
   "source": [
    "print(len(X_train))\n",
    "print(len(X_test))"
   ]
  },
  {
   "cell_type": "code",
   "execution_count": null,
   "metadata": {},
   "outputs": [
    {
     "name": "stdout",
     "output_type": "stream",
     "text": [
      "7904\n",
      "1977\n"
     ]
    }
   ],
   "source": [
    "# Stack permet de transformer une liste de tensor en un seul tensor\n",
    "X_train_tensor = torch.stack(X_train)\n",
    "X_test_tensor = torch.stack(X_test)  \n",
    "\n",
    "y_train_tensor = torch.tensor(y_train).long() \n",
    "y_test_tensor = torch.tensor(y_test).long()\n",
    "\n",
    "train_dataset = TensorDataset(X_train_tensor, y_train_tensor)\n",
    "test_dataset = TensorDataset(X_test_tensor, y_test_tensor)\n",
    "print(len(train_dataset))\n",
    "print(len(test_dataset))"
   ]
  },
  {
   "cell_type": "code",
   "execution_count": null,
   "metadata": {},
   "outputs": [],
   "source": [
    "batch_size = 128\n",
    "train_loader = DataLoader(train_dataset, batch_size=batch_size, shuffle=True)\n",
    "test_loader = DataLoader(test_dataset, batch_size=batch_size, shuffle=True, drop_last=True)"
   ]
  },
  {
   "cell_type": "markdown",
   "metadata": {},
   "source": [
    "## CNN "
   ]
  },
  {
   "cell_type": "code",
   "execution_count": null,
   "metadata": {},
   "outputs": [],
   "source": [
    "class SimpleCNN(nn.Module):\n",
    "    def __init__(self, num_classes):\n",
    "        super(SimpleCNN, self).__init__()\n",
    "        self.conv1 = nn.Conv2d(1, 8, kernel_size=(5, 5), stride=1, padding=2)\n",
    "        self.pool1 = nn.MaxPool2d(kernel_size=(4, 2), stride=(4, 2))\n",
    "\n",
    "        self.conv2 = nn.Conv2d(8, 16, kernel_size=(5, 5), stride=1, padding=2)\n",
    "        self.pool2 = nn.MaxPool2d(kernel_size=(4, 2), stride=(4, 2))\n",
    "        self.flattened_size = 16 * 126 * 10\n",
    "\n",
    "        self.fc1 = nn.Linear(self.flattened_size, 2048)\n",
    "        self.fc2 = nn.Linear(2048, num_classes)\n",
    "        self.dropout = nn.Dropout(0.3)\n",
    "\n",
    "\n",
    "    def forward(self, x):\n",
    "        x = F.relu(self.conv1(x))\n",
    "        x = self.pool1(x)\n",
    "        x = self.dropout(x)\n",
    "        x = F.relu(self.conv2(x))\n",
    "        x = self.pool2(x)\n",
    "        x = self.dropout(x)\n",
    "        x = x.view(-1, self.flattened_size) \n",
    "        x = F.relu(self.fc1(x))\n",
    "        x = self.fc2(x)\n",
    "        return x\n",
    "    \n",
    "cnn = SimpleCNN(4).to(device)"
   ]
  },
  {
   "cell_type": "markdown",
   "metadata": {},
   "source": [
    "### Function Train/Test"
   ]
  },
  {
   "cell_type": "code",
   "execution_count": null,
   "metadata": {},
   "outputs": [],
   "source": [
    "def train_cnn(model, train_loader, optimizer, criterion, epochs=20):\n",
    "    for epoch in range(epochs):\n",
    "        model.train()\n",
    "        running_loss = 0.0\n",
    "        with tqdm(train_loader, unit=\"batch\") as tepoch:\n",
    "            for spectrograms, labels in tepoch:\n",
    "                tepoch.set_description(f\"Epoch {epoch+1}\")\n",
    "                \n",
    "                spectrograms = spectrograms.to(device)\n",
    "                labels = labels.to(device)\n",
    "                outputs = model(spectrograms.unsqueeze(1))  \n",
    "                loss = criterion(outputs, labels)\n",
    "\n",
    "                optimizer.zero_grad()\n",
    "                loss.backward()\n",
    "                optimizer.step()\n",
    "\n",
    "                running_loss += loss.item()\n",
    "                tepoch.set_postfix(loss=loss.item())\n",
    "        \n",
    "        # Average loss for this epoch\n",
    "        average_loss = running_loss / len(train_loader)\n",
    "        print(f\"Epoch {epoch+1} completed: Avg. Loss: {average_loss:.4f}\")"
   ]
  },
  {
   "cell_type": "code",
   "execution_count": null,
   "metadata": {},
   "outputs": [],
   "source": [
    "def test_cnn(model, test_loader):\n",
    "    with torch.no_grad():\n",
    "        acc_total = 0\n",
    "        model.eval()\n",
    "        for spectrograms, labels in test_loader:\n",
    "            spectrograms = spectrograms.to(device)\n",
    "            labels = labels.to(device)\n",
    "            outputs = model(spectrograms.unsqueeze(1))\n",
    "            _, predicted = torch.max(outputs, 1)\n",
    "            acc_total += (predicted==labels).sum().item()/len(labels)\n",
    "        print(f\"Accuracy: {acc_total/len(test_loader)}\")"
   ]
  },
  {
   "cell_type": "markdown",
   "metadata": {},
   "source": [
    "### Train/Test"
   ]
  },
  {
   "cell_type": "code",
   "execution_count": null,
   "metadata": {},
   "outputs": [
    {
     "name": "stderr",
     "output_type": "stream",
     "text": [
      "Epoch 1: 100%|██████████| 62/62 [00:11<00:00,  5.39batch/s, loss=0.354]\n"
     ]
    },
    {
     "name": "stdout",
     "output_type": "stream",
     "text": [
      "Epoch 1 completed: Avg. Loss: 0.5755\n"
     ]
    },
    {
     "name": "stderr",
     "output_type": "stream",
     "text": [
      "Epoch 2: 100%|██████████| 62/62 [00:10<00:00,  6.13batch/s, loss=0.221]\n"
     ]
    },
    {
     "name": "stdout",
     "output_type": "stream",
     "text": [
      "Epoch 2 completed: Avg. Loss: 0.3439\n"
     ]
    },
    {
     "name": "stderr",
     "output_type": "stream",
     "text": [
      "Epoch 3: 100%|██████████| 62/62 [00:09<00:00,  6.26batch/s, loss=0.259]\n"
     ]
    },
    {
     "name": "stdout",
     "output_type": "stream",
     "text": [
      "Epoch 3 completed: Avg. Loss: 0.2879\n"
     ]
    },
    {
     "name": "stderr",
     "output_type": "stream",
     "text": [
      "Epoch 4: 100%|██████████| 62/62 [00:09<00:00,  6.52batch/s, loss=0.215]\n"
     ]
    },
    {
     "name": "stdout",
     "output_type": "stream",
     "text": [
      "Epoch 4 completed: Avg. Loss: 0.2525\n"
     ]
    },
    {
     "name": "stderr",
     "output_type": "stream",
     "text": [
      "Epoch 5: 100%|██████████| 62/62 [00:09<00:00,  6.26batch/s, loss=0.196]\n"
     ]
    },
    {
     "name": "stdout",
     "output_type": "stream",
     "text": [
      "Epoch 5 completed: Avg. Loss: 0.2241\n"
     ]
    },
    {
     "name": "stderr",
     "output_type": "stream",
     "text": [
      "Epoch 6: 100%|██████████| 62/62 [00:09<00:00,  6.55batch/s, loss=0.141]\n"
     ]
    },
    {
     "name": "stdout",
     "output_type": "stream",
     "text": [
      "Epoch 6 completed: Avg. Loss: 0.2025\n"
     ]
    },
    {
     "name": "stderr",
     "output_type": "stream",
     "text": [
      "Epoch 7: 100%|██████████| 62/62 [00:09<00:00,  6.34batch/s, loss=0.308] \n"
     ]
    },
    {
     "name": "stdout",
     "output_type": "stream",
     "text": [
      "Epoch 7 completed: Avg. Loss: 0.1803\n"
     ]
    },
    {
     "name": "stderr",
     "output_type": "stream",
     "text": [
      "Epoch 8: 100%|██████████| 62/62 [00:09<00:00,  6.44batch/s, loss=0.187] \n"
     ]
    },
    {
     "name": "stdout",
     "output_type": "stream",
     "text": [
      "Epoch 8 completed: Avg. Loss: 0.1717\n"
     ]
    },
    {
     "name": "stderr",
     "output_type": "stream",
     "text": [
      "Epoch 9: 100%|██████████| 62/62 [00:10<00:00,  6.09batch/s, loss=0.161] \n"
     ]
    },
    {
     "name": "stdout",
     "output_type": "stream",
     "text": [
      "Epoch 9 completed: Avg. Loss: 0.1564\n"
     ]
    },
    {
     "name": "stderr",
     "output_type": "stream",
     "text": [
      "Epoch 10: 100%|██████████| 62/62 [00:10<00:00,  5.97batch/s, loss=0.164] "
     ]
    },
    {
     "name": "stdout",
     "output_type": "stream",
     "text": [
      "Epoch 10 completed: Avg. Loss: 0.1488\n"
     ]
    },
    {
     "name": "stderr",
     "output_type": "stream",
     "text": [
      "\n"
     ]
    }
   ],
   "source": [
    "# Train CNN\n",
    "optimizer = torch.optim.AdamW(lr=0.0001, params=cnn.parameters())\n",
    "criterion = nn.CrossEntropyLoss()\n",
    "train_cnn(cnn, train_loader, optimizer, criterion, epochs=10)"
   ]
  },
  {
   "cell_type": "code",
   "execution_count": null,
   "metadata": {},
   "outputs": [
    {
     "name": "stdout",
     "output_type": "stream",
     "text": [
      "Accuracy: 0.7182291666666667\n"
     ]
    }
   ],
   "source": [
    "# Test CNN\n",
    "test_cnn(cnn, test_loader)"
   ]
  },
  {
   "cell_type": "markdown",
   "metadata": {},
   "source": [
    "## LSTM"
   ]
  },
  {
   "cell_type": "code",
   "execution_count": null,
   "metadata": {},
   "outputs": [
    {
     "name": "stdout",
     "output_type": "stream",
     "text": [
      "40\n"
     ]
    }
   ],
   "source": [
    "print(train_dataset[0][0].shape[1])"
   ]
  },
  {
   "cell_type": "code",
   "execution_count": null,
   "metadata": {},
   "outputs": [],
   "source": [
    "class LSTM(nn.Module):\n",
    "    def __init__(self, input_size, hidden_size, num_layers, num_classes, sequence_length, dropout):\n",
    "        super(LSTM, self).__init__()\n",
    "        self.input_size = input_size\n",
    "        self.hidden_size = hidden_size\n",
    "        self.num_layers = num_layers\n",
    "        self.num_classes = num_classes\n",
    "        self.sequence_length = sequence_length\n",
    "        self.dropout = dropout\n",
    "        \n",
    "        self.lstm = nn.LSTM(input_size, hidden_size, num_layers, batch_first=True, dropout=dropout)\n",
    "        self.fc = nn.Linear(hidden_size*sequence_length, num_classes)\n",
    "        \n",
    "    def forward(self, x):\n",
    "        h0 = torch.zeros(self.num_layers, x.size(0), self.hidden_size).to(device)\n",
    "        c0 = torch.zeros(self.num_layers, x.size(0), self.hidden_size).to(device)\n",
    "        \n",
    "        out, (_,_) = self.lstm(x, (h0, c0))\n",
    "        # out = self.fc(out[:, -1, :])\n",
    "        out = out.reshape(out.shape[0], -1)\n",
    "        out = self.fc(out)\n",
    "        return out"
   ]
  },
  {
   "cell_type": "code",
   "execution_count": null,
   "metadata": {},
   "outputs": [],
   "source": [
    "acc = []\n",
    "def train_lstm(model, train_loader, optimizer, criterion, epochs=5):\n",
    "    for epoch in range(epochs):\n",
    "        model.train()\n",
    "        running_loss = 0.0\n",
    "        with tqdm(train_loader, unit=\"batch\") as tepoch:\n",
    "            for spectrograms, labels in tepoch:\n",
    "                tepoch.set_description(f\"Epoch {epoch+1}\")\n",
    "                spectrograms = spectrograms.to(device)\n",
    "                labels = labels.to(device)\n",
    "                outputs = model(spectrograms)  \n",
    "                loss = criterion(outputs, labels)\n",
    "\n",
    "                optimizer.zero_grad()\n",
    "                loss.backward()\n",
    "                optimizer.step()\n",
    "\n",
    "                running_loss += loss.item()\n",
    "                tepoch.set_postfix(loss=loss.item())\n",
    "        \n",
    "        # Average loss for this epoch\n",
    "        average_loss = running_loss / len(train_loader)\n",
    "        print(f\"Epoch {epoch+1} completed: Avg. Loss: {average_loss:.4f}\")\n",
    "        acc.append(average_loss)"
   ]
  },
  {
   "cell_type": "code",
   "execution_count": null,
   "metadata": {},
   "outputs": [],
   "source": [
    "def test_lstm(model, test_loader):\n",
    "    with torch.no_grad():\n",
    "        acc_total = 0\n",
    "        model.eval()\n",
    "        for spectrograms, labels in test_loader:\n",
    "            spectrograms = spectrograms.to(device)\n",
    "            labels = labels.to(device)\n",
    "            outputs = model(spectrograms)\n",
    "            _, predicted = torch.max(outputs, 1)\n",
    "            acc_total += (predicted==labels).sum().item()/len(labels)\n",
    "        print(f\"Accuracy: {acc_total/len(test_loader)}\")"
   ]
  },
  {
   "cell_type": "code",
   "execution_count": null,
   "metadata": {},
   "outputs": [
    {
     "name": "stderr",
     "output_type": "stream",
     "text": [
      "Epoch 1:   0%|          | 0/62 [00:00<?, ?batch/s]"
     ]
    },
    {
     "name": "stderr",
     "output_type": "stream",
     "text": [
      "Epoch 1: 100%|██████████| 62/62 [00:43<00:00,  1.43batch/s, loss=1]    \n"
     ]
    },
    {
     "name": "stdout",
     "output_type": "stream",
     "text": [
      "Epoch 1 completed: Avg. Loss: 1.2577\n"
     ]
    },
    {
     "name": "stderr",
     "output_type": "stream",
     "text": [
      "Epoch 2: 100%|██████████| 62/62 [00:41<00:00,  1.48batch/s, loss=0.639]\n"
     ]
    },
    {
     "name": "stdout",
     "output_type": "stream",
     "text": [
      "Epoch 2 completed: Avg. Loss: 0.8224\n"
     ]
    },
    {
     "name": "stderr",
     "output_type": "stream",
     "text": [
      "Epoch 3: 100%|██████████| 62/62 [00:42<00:00,  1.48batch/s, loss=0.607]\n"
     ]
    },
    {
     "name": "stdout",
     "output_type": "stream",
     "text": [
      "Epoch 3 completed: Avg. Loss: 0.6279\n"
     ]
    },
    {
     "name": "stderr",
     "output_type": "stream",
     "text": [
      "Epoch 4: 100%|██████████| 62/62 [00:42<00:00,  1.47batch/s, loss=0.382]\n"
     ]
    },
    {
     "name": "stdout",
     "output_type": "stream",
     "text": [
      "Epoch 4 completed: Avg. Loss: 0.4999\n"
     ]
    },
    {
     "name": "stderr",
     "output_type": "stream",
     "text": [
      "Epoch 5: 100%|██████████| 62/62 [00:41<00:00,  1.48batch/s, loss=0.401]\n"
     ]
    },
    {
     "name": "stdout",
     "output_type": "stream",
     "text": [
      "Epoch 5 completed: Avg. Loss: 0.4183\n"
     ]
    },
    {
     "name": "stderr",
     "output_type": "stream",
     "text": [
      "Epoch 6: 100%|██████████| 62/62 [00:41<00:00,  1.48batch/s, loss=0.343]\n"
     ]
    },
    {
     "name": "stdout",
     "output_type": "stream",
     "text": [
      "Epoch 6 completed: Avg. Loss: 0.3481\n"
     ]
    },
    {
     "name": "stderr",
     "output_type": "stream",
     "text": [
      "Epoch 7: 100%|██████████| 62/62 [00:41<00:00,  1.48batch/s, loss=0.368]\n"
     ]
    },
    {
     "name": "stdout",
     "output_type": "stream",
     "text": [
      "Epoch 7 completed: Avg. Loss: 0.3001\n"
     ]
    },
    {
     "name": "stderr",
     "output_type": "stream",
     "text": [
      "Epoch 8: 100%|██████████| 62/62 [00:41<00:00,  1.48batch/s, loss=0.185]\n"
     ]
    },
    {
     "name": "stdout",
     "output_type": "stream",
     "text": [
      "Epoch 8 completed: Avg. Loss: 0.2630\n"
     ]
    },
    {
     "name": "stderr",
     "output_type": "stream",
     "text": [
      "Epoch 9: 100%|██████████| 62/62 [00:41<00:00,  1.48batch/s, loss=0.2]  \n"
     ]
    },
    {
     "name": "stdout",
     "output_type": "stream",
     "text": [
      "Epoch 9 completed: Avg. Loss: 0.2317\n"
     ]
    },
    {
     "name": "stderr",
     "output_type": "stream",
     "text": [
      "Epoch 10: 100%|██████████| 62/62 [00:41<00:00,  1.48batch/s, loss=0.192]\n"
     ]
    },
    {
     "name": "stdout",
     "output_type": "stream",
     "text": [
      "Epoch 10 completed: Avg. Loss: 0.2095\n"
     ]
    },
    {
     "name": "stderr",
     "output_type": "stream",
     "text": [
      "Epoch 11: 100%|██████████| 62/62 [00:41<00:00,  1.48batch/s, loss=0.2]  \n"
     ]
    },
    {
     "name": "stdout",
     "output_type": "stream",
     "text": [
      "Epoch 11 completed: Avg. Loss: 0.1925\n"
     ]
    },
    {
     "name": "stderr",
     "output_type": "stream",
     "text": [
      "Epoch 12: 100%|██████████| 62/62 [00:41<00:00,  1.48batch/s, loss=0.122] \n"
     ]
    },
    {
     "name": "stdout",
     "output_type": "stream",
     "text": [
      "Epoch 12 completed: Avg. Loss: 0.1721\n"
     ]
    },
    {
     "name": "stderr",
     "output_type": "stream",
     "text": [
      "Epoch 13: 100%|██████████| 62/62 [00:42<00:00,  1.48batch/s, loss=0.128] \n"
     ]
    },
    {
     "name": "stdout",
     "output_type": "stream",
     "text": [
      "Epoch 13 completed: Avg. Loss: 0.1525\n"
     ]
    },
    {
     "name": "stderr",
     "output_type": "stream",
     "text": [
      "Epoch 14: 100%|██████████| 62/62 [00:41<00:00,  1.48batch/s, loss=0.126] \n"
     ]
    },
    {
     "name": "stdout",
     "output_type": "stream",
     "text": [
      "Epoch 14 completed: Avg. Loss: 0.1390\n"
     ]
    },
    {
     "name": "stderr",
     "output_type": "stream",
     "text": [
      "Epoch 15: 100%|██████████| 62/62 [00:41<00:00,  1.48batch/s, loss=0.0904]\n"
     ]
    },
    {
     "name": "stdout",
     "output_type": "stream",
     "text": [
      "Epoch 15 completed: Avg. Loss: 0.1320\n"
     ]
    },
    {
     "name": "stderr",
     "output_type": "stream",
     "text": [
      "Epoch 16: 100%|██████████| 62/62 [00:42<00:00,  1.47batch/s, loss=0.204] \n"
     ]
    },
    {
     "name": "stdout",
     "output_type": "stream",
     "text": [
      "Epoch 16 completed: Avg. Loss: 0.1194\n"
     ]
    },
    {
     "name": "stderr",
     "output_type": "stream",
     "text": [
      "Epoch 17: 100%|██████████| 62/62 [00:42<00:00,  1.45batch/s, loss=0.1]   \n"
     ]
    },
    {
     "name": "stdout",
     "output_type": "stream",
     "text": [
      "Epoch 17 completed: Avg. Loss: 0.1091\n"
     ]
    },
    {
     "name": "stderr",
     "output_type": "stream",
     "text": [
      "Epoch 18: 100%|██████████| 62/62 [00:42<00:00,  1.47batch/s, loss=0.0774]\n"
     ]
    },
    {
     "name": "stdout",
     "output_type": "stream",
     "text": [
      "Epoch 18 completed: Avg. Loss: 0.1044\n"
     ]
    },
    {
     "name": "stderr",
     "output_type": "stream",
     "text": [
      "Epoch 19: 100%|██████████| 62/62 [00:42<00:00,  1.47batch/s, loss=0.0785]\n"
     ]
    },
    {
     "name": "stdout",
     "output_type": "stream",
     "text": [
      "Epoch 19 completed: Avg. Loss: 0.0925\n"
     ]
    },
    {
     "name": "stderr",
     "output_type": "stream",
     "text": [
      "Epoch 20: 100%|██████████| 62/62 [00:42<00:00,  1.47batch/s, loss=0.0863]\n"
     ]
    },
    {
     "name": "stdout",
     "output_type": "stream",
     "text": [
      "Epoch 20 completed: Avg. Loss: 0.0830\n"
     ]
    },
    {
     "name": "stderr",
     "output_type": "stream",
     "text": [
      "Epoch 21: 100%|██████████| 62/62 [00:42<00:00,  1.47batch/s, loss=0.125] \n"
     ]
    },
    {
     "name": "stdout",
     "output_type": "stream",
     "text": [
      "Epoch 21 completed: Avg. Loss: 0.0849\n"
     ]
    },
    {
     "name": "stderr",
     "output_type": "stream",
     "text": [
      "Epoch 22: 100%|██████████| 62/62 [00:42<00:00,  1.47batch/s, loss=0.0195]\n"
     ]
    },
    {
     "name": "stdout",
     "output_type": "stream",
     "text": [
      "Epoch 22 completed: Avg. Loss: 0.0731\n"
     ]
    },
    {
     "name": "stderr",
     "output_type": "stream",
     "text": [
      "Epoch 23: 100%|██████████| 62/62 [00:42<00:00,  1.47batch/s, loss=0.0485]\n"
     ]
    },
    {
     "name": "stdout",
     "output_type": "stream",
     "text": [
      "Epoch 23 completed: Avg. Loss: 0.0780\n"
     ]
    },
    {
     "name": "stderr",
     "output_type": "stream",
     "text": [
      "Epoch 24: 100%|██████████| 62/62 [00:42<00:00,  1.47batch/s, loss=0.0725]\n"
     ]
    },
    {
     "name": "stdout",
     "output_type": "stream",
     "text": [
      "Epoch 24 completed: Avg. Loss: 0.0682\n"
     ]
    },
    {
     "name": "stderr",
     "output_type": "stream",
     "text": [
      "Epoch 25: 100%|██████████| 62/62 [00:41<00:00,  1.48batch/s, loss=0.0677]\n"
     ]
    },
    {
     "name": "stdout",
     "output_type": "stream",
     "text": [
      "Epoch 25 completed: Avg. Loss: 0.0626\n"
     ]
    },
    {
     "name": "stderr",
     "output_type": "stream",
     "text": [
      "Epoch 26: 100%|██████████| 62/62 [00:42<00:00,  1.45batch/s, loss=0.0423]\n"
     ]
    },
    {
     "name": "stdout",
     "output_type": "stream",
     "text": [
      "Epoch 26 completed: Avg. Loss: 0.0629\n"
     ]
    },
    {
     "name": "stderr",
     "output_type": "stream",
     "text": [
      "Epoch 27: 100%|██████████| 62/62 [00:43<00:00,  1.44batch/s, loss=0.0409]\n"
     ]
    },
    {
     "name": "stdout",
     "output_type": "stream",
     "text": [
      "Epoch 27 completed: Avg. Loss: 0.0536\n"
     ]
    },
    {
     "name": "stderr",
     "output_type": "stream",
     "text": [
      "Epoch 28: 100%|██████████| 62/62 [00:50<00:00,  1.22batch/s, loss=0.0757]\n"
     ]
    },
    {
     "name": "stdout",
     "output_type": "stream",
     "text": [
      "Epoch 28 completed: Avg. Loss: 0.0530\n"
     ]
    },
    {
     "name": "stderr",
     "output_type": "stream",
     "text": [
      "Epoch 29: 100%|██████████| 62/62 [00:42<00:00,  1.45batch/s, loss=0.0423]\n"
     ]
    },
    {
     "name": "stdout",
     "output_type": "stream",
     "text": [
      "Epoch 29 completed: Avg. Loss: 0.0530\n"
     ]
    },
    {
     "name": "stderr",
     "output_type": "stream",
     "text": [
      "Epoch 30: 100%|██████████| 62/62 [00:41<00:00,  1.48batch/s, loss=0.0573]\n"
     ]
    },
    {
     "name": "stdout",
     "output_type": "stream",
     "text": [
      "Epoch 30 completed: Avg. Loss: 0.0468\n"
     ]
    },
    {
     "name": "stderr",
     "output_type": "stream",
     "text": [
      "Epoch 31: 100%|██████████| 62/62 [00:41<00:00,  1.48batch/s, loss=0.021] \n"
     ]
    },
    {
     "name": "stdout",
     "output_type": "stream",
     "text": [
      "Epoch 31 completed: Avg. Loss: 0.0477\n"
     ]
    },
    {
     "name": "stderr",
     "output_type": "stream",
     "text": [
      "Epoch 32: 100%|██████████| 62/62 [00:41<00:00,  1.48batch/s, loss=0.0251]\n"
     ]
    },
    {
     "name": "stdout",
     "output_type": "stream",
     "text": [
      "Epoch 32 completed: Avg. Loss: 0.0402\n"
     ]
    },
    {
     "name": "stderr",
     "output_type": "stream",
     "text": [
      "Epoch 33: 100%|██████████| 62/62 [00:42<00:00,  1.47batch/s, loss=0.0163]\n"
     ]
    },
    {
     "name": "stdout",
     "output_type": "stream",
     "text": [
      "Epoch 33 completed: Avg. Loss: 0.0428\n"
     ]
    },
    {
     "name": "stderr",
     "output_type": "stream",
     "text": [
      "Epoch 34: 100%|██████████| 62/62 [00:42<00:00,  1.47batch/s, loss=0.0301]\n"
     ]
    },
    {
     "name": "stdout",
     "output_type": "stream",
     "text": [
      "Epoch 34 completed: Avg. Loss: 0.0380\n"
     ]
    },
    {
     "name": "stderr",
     "output_type": "stream",
     "text": [
      "Epoch 35: 100%|██████████| 62/62 [00:42<00:00,  1.45batch/s, loss=0.0267]\n"
     ]
    },
    {
     "name": "stdout",
     "output_type": "stream",
     "text": [
      "Epoch 35 completed: Avg. Loss: 0.0385\n"
     ]
    },
    {
     "name": "stderr",
     "output_type": "stream",
     "text": [
      "Epoch 36: 100%|██████████| 62/62 [00:41<00:00,  1.48batch/s, loss=0.0422]\n"
     ]
    },
    {
     "name": "stdout",
     "output_type": "stream",
     "text": [
      "Epoch 36 completed: Avg. Loss: 0.0365\n"
     ]
    },
    {
     "name": "stderr",
     "output_type": "stream",
     "text": [
      "Epoch 37: 100%|██████████| 62/62 [00:42<00:00,  1.46batch/s, loss=0.0502] \n"
     ]
    },
    {
     "name": "stdout",
     "output_type": "stream",
     "text": [
      "Epoch 37 completed: Avg. Loss: 0.0337\n"
     ]
    },
    {
     "name": "stderr",
     "output_type": "stream",
     "text": [
      "Epoch 38: 100%|██████████| 62/62 [00:42<00:00,  1.46batch/s, loss=0.0625] \n"
     ]
    },
    {
     "name": "stdout",
     "output_type": "stream",
     "text": [
      "Epoch 38 completed: Avg. Loss: 0.0343\n"
     ]
    },
    {
     "name": "stderr",
     "output_type": "stream",
     "text": [
      "Epoch 39: 100%|██████████| 62/62 [00:42<00:00,  1.46batch/s, loss=0.0345] \n"
     ]
    },
    {
     "name": "stdout",
     "output_type": "stream",
     "text": [
      "Epoch 39 completed: Avg. Loss: 0.0333\n"
     ]
    },
    {
     "name": "stderr",
     "output_type": "stream",
     "text": [
      "Epoch 40: 100%|██████████| 62/62 [00:42<00:00,  1.46batch/s, loss=0.0226] \n"
     ]
    },
    {
     "name": "stdout",
     "output_type": "stream",
     "text": [
      "Epoch 40 completed: Avg. Loss: 0.0258\n"
     ]
    },
    {
     "name": "stderr",
     "output_type": "stream",
     "text": [
      "Epoch 41: 100%|██████████| 62/62 [00:43<00:00,  1.43batch/s, loss=0.0134] \n"
     ]
    },
    {
     "name": "stdout",
     "output_type": "stream",
     "text": [
      "Epoch 41 completed: Avg. Loss: 0.0268\n"
     ]
    },
    {
     "name": "stderr",
     "output_type": "stream",
     "text": [
      "Epoch 42: 100%|██████████| 62/62 [00:42<00:00,  1.45batch/s, loss=0.0408] \n"
     ]
    },
    {
     "name": "stdout",
     "output_type": "stream",
     "text": [
      "Epoch 42 completed: Avg. Loss: 0.0266\n"
     ]
    },
    {
     "name": "stderr",
     "output_type": "stream",
     "text": [
      "Epoch 43: 100%|██████████| 62/62 [00:42<00:00,  1.47batch/s, loss=0.0604] \n"
     ]
    },
    {
     "name": "stdout",
     "output_type": "stream",
     "text": [
      "Epoch 43 completed: Avg. Loss: 0.0262\n"
     ]
    },
    {
     "name": "stderr",
     "output_type": "stream",
     "text": [
      "Epoch 44: 100%|██████████| 62/62 [00:42<00:00,  1.46batch/s, loss=0.0359] \n"
     ]
    },
    {
     "name": "stdout",
     "output_type": "stream",
     "text": [
      "Epoch 44 completed: Avg. Loss: 0.0256\n"
     ]
    },
    {
     "name": "stderr",
     "output_type": "stream",
     "text": [
      "Epoch 45: 100%|██████████| 62/62 [00:42<00:00,  1.46batch/s, loss=0.0064] \n"
     ]
    },
    {
     "name": "stdout",
     "output_type": "stream",
     "text": [
      "Epoch 45 completed: Avg. Loss: 0.0243\n"
     ]
    },
    {
     "name": "stderr",
     "output_type": "stream",
     "text": [
      "Epoch 46: 100%|██████████| 62/62 [00:42<00:00,  1.46batch/s, loss=0.0212] \n"
     ]
    },
    {
     "name": "stdout",
     "output_type": "stream",
     "text": [
      "Epoch 46 completed: Avg. Loss: 0.0241\n"
     ]
    },
    {
     "name": "stderr",
     "output_type": "stream",
     "text": [
      "Epoch 47: 100%|██████████| 62/62 [00:42<00:00,  1.47batch/s, loss=0.00827]\n"
     ]
    },
    {
     "name": "stdout",
     "output_type": "stream",
     "text": [
      "Epoch 47 completed: Avg. Loss: 0.0222\n"
     ]
    },
    {
     "name": "stderr",
     "output_type": "stream",
     "text": [
      "Epoch 48: 100%|██████████| 62/62 [00:42<00:00,  1.47batch/s, loss=0.0359] \n"
     ]
    },
    {
     "name": "stdout",
     "output_type": "stream",
     "text": [
      "Epoch 48 completed: Avg. Loss: 0.0228\n"
     ]
    },
    {
     "name": "stderr",
     "output_type": "stream",
     "text": [
      "Epoch 49: 100%|██████████| 62/62 [00:42<00:00,  1.45batch/s, loss=0.0233] \n"
     ]
    },
    {
     "name": "stdout",
     "output_type": "stream",
     "text": [
      "Epoch 49 completed: Avg. Loss: 0.0210\n"
     ]
    },
    {
     "name": "stderr",
     "output_type": "stream",
     "text": [
      "Epoch 50: 100%|██████████| 62/62 [00:42<00:00,  1.47batch/s, loss=0.0174] \n"
     ]
    },
    {
     "name": "stdout",
     "output_type": "stream",
     "text": [
      "Epoch 50 completed: Avg. Loss: 0.0167\n"
     ]
    },
    {
     "name": "stderr",
     "output_type": "stream",
     "text": [
      "Epoch 51: 100%|██████████| 62/62 [00:42<00:00,  1.46batch/s, loss=0.0106] \n"
     ]
    },
    {
     "name": "stdout",
     "output_type": "stream",
     "text": [
      "Epoch 51 completed: Avg. Loss: 0.0186\n"
     ]
    },
    {
     "name": "stderr",
     "output_type": "stream",
     "text": [
      "Epoch 52: 100%|██████████| 62/62 [00:41<00:00,  1.48batch/s, loss=0.00516]\n"
     ]
    },
    {
     "name": "stdout",
     "output_type": "stream",
     "text": [
      "Epoch 52 completed: Avg. Loss: 0.0157\n"
     ]
    },
    {
     "name": "stderr",
     "output_type": "stream",
     "text": [
      "Epoch 53: 100%|██████████| 62/62 [00:42<00:00,  1.46batch/s, loss=0.00575]\n"
     ]
    },
    {
     "name": "stdout",
     "output_type": "stream",
     "text": [
      "Epoch 53 completed: Avg. Loss: 0.0159\n"
     ]
    },
    {
     "name": "stderr",
     "output_type": "stream",
     "text": [
      "Epoch 54: 100%|██████████| 62/62 [00:43<00:00,  1.44batch/s, loss=0.0108] \n"
     ]
    },
    {
     "name": "stdout",
     "output_type": "stream",
     "text": [
      "Epoch 54 completed: Avg. Loss: 0.0186\n"
     ]
    },
    {
     "name": "stderr",
     "output_type": "stream",
     "text": [
      "Epoch 55: 100%|██████████| 62/62 [00:42<00:00,  1.46batch/s, loss=0.0138] \n"
     ]
    },
    {
     "name": "stdout",
     "output_type": "stream",
     "text": [
      "Epoch 55 completed: Avg. Loss: 0.0154\n"
     ]
    },
    {
     "name": "stderr",
     "output_type": "stream",
     "text": [
      "Epoch 56: 100%|██████████| 62/62 [00:42<00:00,  1.46batch/s, loss=0.00474]\n"
     ]
    },
    {
     "name": "stdout",
     "output_type": "stream",
     "text": [
      "Epoch 56 completed: Avg. Loss: 0.0129\n"
     ]
    },
    {
     "name": "stderr",
     "output_type": "stream",
     "text": [
      "Epoch 57: 100%|██████████| 62/62 [00:42<00:00,  1.46batch/s, loss=0.00188]\n"
     ]
    },
    {
     "name": "stdout",
     "output_type": "stream",
     "text": [
      "Epoch 57 completed: Avg. Loss: 0.0146\n"
     ]
    },
    {
     "name": "stderr",
     "output_type": "stream",
     "text": [
      "Epoch 58: 100%|██████████| 62/62 [00:42<00:00,  1.45batch/s, loss=0.00738]\n"
     ]
    },
    {
     "name": "stdout",
     "output_type": "stream",
     "text": [
      "Epoch 58 completed: Avg. Loss: 0.0177\n"
     ]
    },
    {
     "name": "stderr",
     "output_type": "stream",
     "text": [
      "Epoch 59: 100%|██████████| 62/62 [00:42<00:00,  1.46batch/s, loss=0.0116] \n"
     ]
    },
    {
     "name": "stdout",
     "output_type": "stream",
     "text": [
      "Epoch 59 completed: Avg. Loss: 0.0148\n"
     ]
    },
    {
     "name": "stderr",
     "output_type": "stream",
     "text": [
      "Epoch 60: 100%|██████████| 62/62 [00:42<00:00,  1.47batch/s, loss=0.00537]\n"
     ]
    },
    {
     "name": "stdout",
     "output_type": "stream",
     "text": [
      "Epoch 60 completed: Avg. Loss: 0.0121\n"
     ]
    },
    {
     "name": "stderr",
     "output_type": "stream",
     "text": [
      "Epoch 61: 100%|██████████| 62/62 [00:42<00:00,  1.46batch/s, loss=0.0109] \n"
     ]
    },
    {
     "name": "stdout",
     "output_type": "stream",
     "text": [
      "Epoch 61 completed: Avg. Loss: 0.0158\n"
     ]
    },
    {
     "name": "stderr",
     "output_type": "stream",
     "text": [
      "Epoch 62: 100%|██████████| 62/62 [00:42<00:00,  1.47batch/s, loss=0.00597]\n"
     ]
    },
    {
     "name": "stdout",
     "output_type": "stream",
     "text": [
      "Epoch 62 completed: Avg. Loss: 0.0123\n"
     ]
    },
    {
     "name": "stderr",
     "output_type": "stream",
     "text": [
      "Epoch 63: 100%|██████████| 62/62 [00:42<00:00,  1.46batch/s, loss=0.0203] \n"
     ]
    },
    {
     "name": "stdout",
     "output_type": "stream",
     "text": [
      "Epoch 63 completed: Avg. Loss: 0.0120\n"
     ]
    },
    {
     "name": "stderr",
     "output_type": "stream",
     "text": [
      "Epoch 64: 100%|██████████| 62/62 [00:42<00:00,  1.46batch/s, loss=0.0138] \n"
     ]
    },
    {
     "name": "stdout",
     "output_type": "stream",
     "text": [
      "Epoch 64 completed: Avg. Loss: 0.0108\n"
     ]
    },
    {
     "name": "stderr",
     "output_type": "stream",
     "text": [
      "Epoch 65: 100%|██████████| 62/62 [00:42<00:00,  1.46batch/s, loss=0.00122] \n"
     ]
    },
    {
     "name": "stdout",
     "output_type": "stream",
     "text": [
      "Epoch 65 completed: Avg. Loss: 0.0111\n"
     ]
    },
    {
     "name": "stderr",
     "output_type": "stream",
     "text": [
      "Epoch 66: 100%|██████████| 62/62 [00:42<00:00,  1.46batch/s, loss=0.0049]  \n"
     ]
    },
    {
     "name": "stdout",
     "output_type": "stream",
     "text": [
      "Epoch 66 completed: Avg. Loss: 0.0094\n"
     ]
    },
    {
     "name": "stderr",
     "output_type": "stream",
     "text": [
      "Epoch 67: 100%|██████████| 62/62 [00:42<00:00,  1.44batch/s, loss=0.00538] \n"
     ]
    },
    {
     "name": "stdout",
     "output_type": "stream",
     "text": [
      "Epoch 67 completed: Avg. Loss: 0.0090\n"
     ]
    },
    {
     "name": "stderr",
     "output_type": "stream",
     "text": [
      "Epoch 68: 100%|██████████| 62/62 [00:42<00:00,  1.45batch/s, loss=0.0123]  \n"
     ]
    },
    {
     "name": "stdout",
     "output_type": "stream",
     "text": [
      "Epoch 68 completed: Avg. Loss: 0.0098\n"
     ]
    },
    {
     "name": "stderr",
     "output_type": "stream",
     "text": [
      "Epoch 69: 100%|██████████| 62/62 [00:42<00:00,  1.46batch/s, loss=0.0728]  \n"
     ]
    },
    {
     "name": "stdout",
     "output_type": "stream",
     "text": [
      "Epoch 69 completed: Avg. Loss: 0.0082\n"
     ]
    },
    {
     "name": "stderr",
     "output_type": "stream",
     "text": [
      "Epoch 70: 100%|██████████| 62/62 [00:42<00:00,  1.47batch/s, loss=0.00213]\n"
     ]
    },
    {
     "name": "stdout",
     "output_type": "stream",
     "text": [
      "Epoch 70 completed: Avg. Loss: 0.0107\n"
     ]
    },
    {
     "name": "stderr",
     "output_type": "stream",
     "text": [
      "Epoch 71: 100%|██████████| 62/62 [00:41<00:00,  1.48batch/s, loss=0.00613] \n"
     ]
    },
    {
     "name": "stdout",
     "output_type": "stream",
     "text": [
      "Epoch 71 completed: Avg. Loss: 0.0080\n"
     ]
    },
    {
     "name": "stderr",
     "output_type": "stream",
     "text": [
      "Epoch 72: 100%|██████████| 62/62 [00:41<00:00,  1.48batch/s, loss=0.00478] \n"
     ]
    },
    {
     "name": "stdout",
     "output_type": "stream",
     "text": [
      "Epoch 72 completed: Avg. Loss: 0.0075\n"
     ]
    },
    {
     "name": "stderr",
     "output_type": "stream",
     "text": [
      "Epoch 73: 100%|██████████| 62/62 [00:41<00:00,  1.48batch/s, loss=0.00554] \n"
     ]
    },
    {
     "name": "stdout",
     "output_type": "stream",
     "text": [
      "Epoch 73 completed: Avg. Loss: 0.0066\n"
     ]
    },
    {
     "name": "stderr",
     "output_type": "stream",
     "text": [
      "Epoch 74: 100%|██████████| 62/62 [00:41<00:00,  1.48batch/s, loss=0.00298] \n"
     ]
    },
    {
     "name": "stdout",
     "output_type": "stream",
     "text": [
      "Epoch 74 completed: Avg. Loss: 0.0080\n"
     ]
    },
    {
     "name": "stderr",
     "output_type": "stream",
     "text": [
      "Epoch 75: 100%|██████████| 62/62 [00:42<00:00,  1.47batch/s, loss=0.0192]  \n"
     ]
    },
    {
     "name": "stdout",
     "output_type": "stream",
     "text": [
      "Epoch 75 completed: Avg. Loss: 0.0093\n"
     ]
    },
    {
     "name": "stderr",
     "output_type": "stream",
     "text": [
      "Epoch 76: 100%|██████████| 62/62 [00:42<00:00,  1.48batch/s, loss=0.00283]\n"
     ]
    },
    {
     "name": "stdout",
     "output_type": "stream",
     "text": [
      "Epoch 76 completed: Avg. Loss: 0.0078\n"
     ]
    },
    {
     "name": "stderr",
     "output_type": "stream",
     "text": [
      "Epoch 77: 100%|██████████| 62/62 [00:42<00:00,  1.47batch/s, loss=0.00729]"
     ]
    },
    {
     "name": "stdout",
     "output_type": "stream",
     "text": [
      "Epoch 77 completed: Avg. Loss: 0.0087\n"
     ]
    },
    {
     "name": "stderr",
     "output_type": "stream",
     "text": [
      "\n"
     ]
    }
   ],
   "source": [
    "num_layers = 4\n",
    "hidden_size = 50\n",
    "# Input_size = n filter\n",
    "input_size = train_dataset[0][0].shape[1]\n",
    "# Séquence length = padding = 2021\n",
    "sequence_length = train_dataset[0][0].shape[0]\n",
    "num_classes = 6\n",
    "dropout = 0.2\n",
    "lr = 0.0001\n",
    "num_epochs = 77\n",
    "\n",
    "\n",
    "lstm = LSTM(input_size, hidden_size, num_layers, num_classes, sequence_length, dropout)\n",
    "lstm.to(device)\n",
    "\n",
    "criterion = nn.CrossEntropyLoss()\n",
    "optimizer = optim.Adam(lstm.parameters(), lr=lr)\n",
    "train_lstm(lstm, train_loader, optimizer, criterion, epochs=num_epochs)\n"
   ]
  },
  {
   "cell_type": "code",
   "execution_count": null,
   "metadata": {},
   "outputs": [
    {
     "name": "stdout",
     "output_type": "stream",
     "text": [
      "Accuracy: 0.9822916666666667\n"
     ]
    }
   ],
   "source": [
    "test_lstm(lstm, test_loader)"
   ]
  },
  {
   "cell_type": "code",
   "execution_count": null,
   "metadata": {},
   "outputs": [],
   "source": [
    "torch.save(lstm.state_dict(), 'lstm98-77epch.pth')"
   ]
  }
 ],
 "metadata": {
  "kernelspec": {
   "display_name": "Python 3",
   "language": "python",
   "name": "python3"
  },
  "language_info": {
   "codemirror_mode": {
    "name": "ipython",
    "version": 3
   },
   "file_extension": ".py",
   "mimetype": "text/x-python",
   "name": "python",
   "nbconvert_exporter": "python",
   "pygments_lexer": "ipython3",
   "version": "3.11.8"
  }
 },
 "nbformat": 4,
 "nbformat_minor": 2
}
